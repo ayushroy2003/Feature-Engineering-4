{
 "cells": [
  {
   "cell_type": "markdown",
   "id": "a04d8eb8-4b4b-4b1a-b52f-45c6cc775210",
   "metadata": {},
   "source": [
    "Q1. What is data encoding? How is it useful in data science?\n",
    "\n",
    "Ans - Data Encodeing is the process of converting categorical or textual data into a numerical format that machine learning models can understand. It is essential because most ML algorithims work with number , not text."
   ]
  },
  {
   "cell_type": "markdown",
   "id": "37e605e9-af7f-4e86-a012-45a58878902f",
   "metadata": {},
   "source": [
    "Q2. What is nominal encoding? Provide an example of how you would use it in a real-world scenario.\n",
    "\n",
    "Ans - Nominal encoding is a technique used to convert categorical data into numerical form when the categories have no inherent  order (nominal data).This is typically done using one hot encoding or label encoding \n",
    "\n",
    "EXAMPLE \n",
    "\n",
    "In a retail dataset, \"the city\" column has value like Delhi ,Mumbai,Chennai. Using Nominal encoding \n",
    "\n",
    "- Label encoding: Delhi = 0 , Mumbai = 1 , Chennai = 2\n",
    "- One hot encoding : Create three binary columns\n",
    "  Delhi:[1,0,0]\n",
    "  Mumbai:[0,1,0]\n",
    "  Chennai:[0,0,1]\n",
    "\n",
    "this makes the data suitable for machine learning models "
   ]
  },
  {
   "cell_type": "markdown",
   "id": "08e173fa-cc70-4305-8e93-53b9c2b369c2",
   "metadata": {},
   "source": [
    "Q3. In what situations is nominal encoding preferred over one-hot encoding? Provide a practical example.\n",
    "\n",
    "Ans - Nominal encoding (e.g., Label Encoding ) is preferred over one hot encoding when:\n",
    "\n",
    "1. High Cardinality : The categorical variable has large number of unique categories, and one-hot encoding would create too many columns, increasing memory usage and computational complexity\n",
    "2. Tree-based Model: Algorithims like Decision Trees or Random Forests can handle numerical label- encoded data well without misinterpreting it as ordinal\n",
    "\n",
    "PRACTICAL EXAMPLE \n",
    "\n",
    "In a movie recommendation systems, the \"Genere\" column has 100+ unique geners. Using label encoding (e.g., Action=0 ,comedy=1, Drama =2 ,.....)avoids creating 100+ columns, making the data more efficient to process in tree-based models like Random Forest."
   ]
  },
  {
   "cell_type": "markdown",
   "id": "e71c7fda-5b6a-4982-a0a5-e98b8d79af6d",
   "metadata": {},
   "source": [
    "Q4. Suppose you have a dataset containing categorical data with 5 unique values. Which encoding\n",
    "technique would you use to transform this data into a format suitable for machine learning algorithms?\n",
    "Explain why you made this choice.\n",
    "\n",
    "Ans- For a dataset with 5 unique categories value, One-Hot encoding is preferred \n",
    "\n",
    "REASON:\n",
    "- Avoids Ordinal Misinterpretation: Machine learning models might incorrectly treat label-encoded value (e.g.,0,1,2,..) as having an order\n",
    "- Low Cardinality: With only 5 categories ,the additional columns created by one hot encoding are manageable and won't significantly increases computatinal complexity\n",
    "\n",
    "  Example\n",
    "For categories A,B,C,D,E :\n",
    "- One-Hot encoding Output\n",
    "  A: [1,0,0,0,0]\n",
    "  B: [0,1,0,0,0]\n",
    "  "
   ]
  },
  {
   "cell_type": "markdown",
   "id": "385286f1-3206-45b1-9879-e94d837a26bb",
   "metadata": {},
   "source": [
    "Q5. In a machine learning project, you have a dataset with 1000 rows and 5 columns. Two of the columns\n",
    "are categorical, and the remaining three columns are numerical. If you were to use nominal encoding to\n",
    "transform the categorical data, how many new columns would be created? Show your calculations.\n",
    "\n",
    "Ans - No new column will create in Nominal encoding to transform the categorical data because the categorical data is replaced with integer within the same column"
   ]
  },
  {
   "cell_type": "markdown",
   "id": "561134d9-26c4-4266-8f9c-40c75589659a",
   "metadata": {},
   "source": [
    "Q6. You are working with a dataset containing information about different types of animals, including their\n",
    "species, habitat, and diet. Which encoding technique would you use to transform the categorical data into\n",
    "a format suitable for machine learning algorithms? Justify your answer\n",
    "\n",
    "Ans- Nominal Encoding can be used for the animal dataset because it is efficient ,keeps the dataset compact ,and works welll with tree-based model like Decion Trees or Random Forest that don't assume any ordinal relationship between categories. For Example , species , habitat and diet can be replaced with integers without creating additional columns "
   ]
  },
  {
   "cell_type": "markdown",
   "id": "119561e1-e016-4a01-a99f-85ffdfc2dfde",
   "metadata": {},
   "source": [
    "Q7.You are working on a project that involves predicting customer churn for a telecommunications\n",
    "company. You have a dataset with 5 features, including the customer's gender, age, contract type,\n",
    "monthly charges, and tenure. Which encoding technique(s) would you use to transform the categorical\n",
    "data into numerical data? Provide a step-by-step explanation of how you would implement the encoding\n",
    "\n",
    "Ans - \n",
    "1. Gender: Use Label Encoding (e.g., Male=0 ,Female = 1) since  it's binary \n",
    "\n",
    "2. Contract type : Use One-Hot Encoding  to avoid false ordinal relationships (e.g., Month-to-Month [1,0,0] , One Year= [0,1,0],Two year= [0,0,1]).\n",
    "\n",
    "Retain numerical feature (Age ,Monthly ,charges,Tenure) as they are."
   ]
  },
  {
   "cell_type": "code",
   "execution_count": null,
   "id": "1cf14c2f-bfac-4b38-a6c1-c7a08af806f1",
   "metadata": {},
   "outputs": [],
   "source": []
  }
 ],
 "metadata": {
  "kernelspec": {
   "display_name": "Python 3 (ipykernel)",
   "language": "python",
   "name": "python3"
  },
  "language_info": {
   "codemirror_mode": {
    "name": "ipython",
    "version": 3
   },
   "file_extension": ".py",
   "mimetype": "text/x-python",
   "name": "python",
   "nbconvert_exporter": "python",
   "pygments_lexer": "ipython3",
   "version": "3.11.4"
  }
 },
 "nbformat": 4,
 "nbformat_minor": 5
}
